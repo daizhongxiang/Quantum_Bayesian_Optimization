{
 "cells": [
  {
   "cell_type": "code",
   "execution_count": null,
   "id": "39e7513c",
   "metadata": {
    "ExecuteTime": {
     "end_time": "2023-05-04T05:20:35.502877Z",
     "start_time": "2023-05-04T05:20:35.020887Z"
    }
   },
   "outputs": [],
   "source": [
    "import GPy\n",
    "import numpy as np\n",
    "import matplotlib.pyplot as plt\n",
    "import pickle\n"
   ]
  },
  {
   "cell_type": "markdown",
   "id": "de7f8e7d",
   "metadata": {},
   "source": [
    "# generate random features"
   ]
  },
  {
   "cell_type": "code",
   "execution_count": null,
   "id": "3cbdc9cc",
   "metadata": {
    "ExecuteTime": {
     "end_time": "2023-05-04T09:01:36.589062Z",
     "start_time": "2023-05-04T09:01:36.585648Z"
    },
    "scrolled": true
   },
   "outputs": [],
   "source": [
    "\n",
    "# generate a discrete domain\n",
    "\n",
    "dim1 = np.linspace(0, 1, 5)\n",
    "dim2 = np.linspace(0, 1, 5)\n",
    "\n",
    "domain = []\n",
    "for a in dim1:\n",
    "    for b in dim2:\n",
    "        domain.append([a, b])\n",
    "domain = np.array(domain)\n",
    "print(domain.shape)\n"
   ]
  },
  {
   "cell_type": "code",
   "execution_count": null,
   "id": "dbba7bff",
   "metadata": {
    "ExecuteTime": {
     "end_time": "2023-05-04T09:01:50.437321Z",
     "start_time": "2023-05-04T09:01:50.434508Z"
    }
   },
   "outputs": [],
   "source": [
    "\n",
    "# ls = np.array([1, 1])\n",
    "ls = np.array([0.2, 0.2])\n",
    "\n",
    "v_kernel = 0.5\n",
    "\n",
    "# obs_noise = 0.05**2\n",
    "obs_noise = 0.01**2\n",
    "\n",
    "M_target = 200\n",
    "\n",
    "dim = 2\n"
   ]
  },
  {
   "cell_type": "code",
   "execution_count": null,
   "id": "0da34b28",
   "metadata": {
    "ExecuteTime": {
     "end_time": "2023-05-04T09:01:53.548510Z",
     "start_time": "2023-05-04T09:01:53.545112Z"
    }
   },
   "outputs": [],
   "source": [
    "\n",
    "s = np.random.multivariate_normal(np.zeros(dim), 1 / (ls**2) * np.identity(dim), M_target)\n",
    "b = np.random.uniform(0, 2 * np.pi, M_target)\n"
   ]
  },
  {
   "cell_type": "code",
   "execution_count": null,
   "id": "2eb9eb0b",
   "metadata": {},
   "outputs": [],
   "source": []
  },
  {
   "cell_type": "code",
   "execution_count": null,
   "id": "9bf10f8b",
   "metadata": {
    "ExecuteTime": {
     "end_time": "2023-05-04T09:26:14.227643Z",
     "start_time": "2023-05-04T09:26:14.222726Z"
    }
   },
   "outputs": [],
   "source": [
    "\n",
    "random_features = {\"s\":s, \"b\":b, \"v_kernel\":v_kernel, \"obs_noise\":obs_noise, \"domain\":domain}\n",
    "log_file_name = \"saved_synth_funcs/random_features_ls_\" + str(ls) + \"_v_kernel_\" + str(v_kernel) + \\\n",
    "        \"_M_\" + str(M_target) + \".pkl\"\n",
    "pickle.dump(random_features, open(log_file_name, \"wb\"))\n"
   ]
  },
  {
   "cell_type": "code",
   "execution_count": null,
   "id": "4a00ad68",
   "metadata": {},
   "outputs": [],
   "source": []
  }
 ],
 "metadata": {
  "kernelspec": {
   "display_name": "Python 3 (ipykernel)",
   "language": "python",
   "name": "python3"
  },
  "language_info": {
   "codemirror_mode": {
    "name": "ipython",
    "version": 3
   },
   "file_extension": ".py",
   "mimetype": "text/x-python",
   "name": "python",
   "nbconvert_exporter": "python",
   "pygments_lexer": "ipython3",
   "version": "3.10.8"
  },
  "toc": {
   "base_numbering": 1,
   "nav_menu": {},
   "number_sections": true,
   "sideBar": true,
   "skip_h1_title": false,
   "title_cell": "Table of Contents",
   "title_sidebar": "Contents",
   "toc_cell": false,
   "toc_position": {},
   "toc_section_display": true,
   "toc_window_display": false
  }
 },
 "nbformat": 4,
 "nbformat_minor": 5
}
