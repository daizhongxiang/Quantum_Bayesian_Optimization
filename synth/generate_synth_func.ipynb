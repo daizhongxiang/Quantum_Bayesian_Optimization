{
 "cells": [
  {
   "cell_type": "code",
   "execution_count": null,
   "id": "39e7513c",
   "metadata": {
    "ExecuteTime": {
     "end_time": "2023-05-22T12:45:25.350112Z",
     "start_time": "2023-05-22T12:45:24.876621Z"
    }
   },
   "outputs": [],
   "source": [
    "import GPy\n",
    "import numpy as np\n",
    "import matplotlib.pyplot as plt\n",
    "import pickle\n"
   ]
  },
  {
   "cell_type": "markdown",
   "id": "69449332",
   "metadata": {},
   "source": [
    "# sample synthetic reward function from GP"
   ]
  },
  {
   "cell_type": "code",
   "execution_count": null,
   "id": "fdb4a511",
   "metadata": {
    "ExecuteTime": {
     "end_time": "2023-05-22T12:46:39.533378Z",
     "start_time": "2023-05-22T12:46:39.522349Z"
    },
    "scrolled": false
   },
   "outputs": [],
   "source": [
    "\n",
    "xx = np.linspace(0, 1, 20).reshape(-1, 1)\n",
    "\n",
    "ls = 0.1\n",
    "\n",
    "v_kernel = 1\n",
    "\n",
    "kernel = GPy.kern.RBF(input_dim=1, lengthscale=ls, variance=v_kernel)\n",
    "C = kernel.K(xx, xx)\n",
    "m = np.zeros((C.shape[0]))\n",
    "f = np.random.multivariate_normal(m, C, 1).reshape(-1, 1)\n",
    "\n",
    "f = (f - np.min(f)) / (np.max(f) - np.min(f))\n",
    "\n",
    "# plt.plot(f)\n",
    "# plt.show()\n"
   ]
  },
  {
   "cell_type": "code",
   "execution_count": null,
   "id": "c3b23277",
   "metadata": {},
   "outputs": [],
   "source": []
  },
  {
   "cell_type": "code",
   "execution_count": null,
   "id": "56b0c22c",
   "metadata": {},
   "outputs": [],
   "source": [
    "\n",
    "all_func_info = {\"domain\":xx, \"f\":f, \"obs_noise\":obs_noise}\n",
    "log_file_name = \"saved_synth_funcs/synth_func_ls_\" + str(ls) + \"_noise_var_\" + str(obs_noise) + \".pkl\"\n",
    "pickle.dump(all_func_info, open(log_file_name, \"wb\"))\n"
   ]
  },
  {
   "cell_type": "code",
   "execution_count": null,
   "id": "730d35bf",
   "metadata": {},
   "outputs": [],
   "source": []
  },
  {
   "cell_type": "markdown",
   "id": "de7f8e7d",
   "metadata": {},
   "source": [
    "# generate random features"
   ]
  },
  {
   "cell_type": "code",
   "execution_count": null,
   "id": "dbba7bff",
   "metadata": {
    "ExecuteTime": {
     "end_time": "2023-05-03T10:55:29.125593Z",
     "start_time": "2023-05-03T10:55:29.121468Z"
    }
   },
   "outputs": [],
   "source": [
    "\n",
    "ls = 0.1\n",
    "v_kernel = 1\n",
    "\n",
    "obs_noise = 0.4**2\n",
    "\n",
    "M_target = 100\n",
    "\n",
    "dim = 1\n"
   ]
  },
  {
   "cell_type": "code",
   "execution_count": null,
   "id": "0da34b28",
   "metadata": {
    "ExecuteTime": {
     "end_time": "2023-05-03T10:55:31.357342Z",
     "start_time": "2023-05-03T10:55:31.351754Z"
    }
   },
   "outputs": [],
   "source": [
    "\n",
    "try:\n",
    "    s = np.random.multivariate_normal(np.zeros(dim), 1 / (ls**2) * np.identity(dim), M_target)\n",
    "except:\n",
    "    s = np.random.rand(M_target, dim) - 0.5\n",
    "\n",
    "b = np.random.uniform(0, 2 * np.pi, M_target)\n"
   ]
  },
  {
   "cell_type": "code",
   "execution_count": null,
   "id": "2828c241",
   "metadata": {},
   "outputs": [],
   "source": [
    "\n",
    "random_features = {\"s\":s, \"b\":b, \"obs_noise\":obs_noise, \"v_kernel\":v_kernel}\n",
    "log_file_name = \"saved_synth_funcs/random_features_ls_\" + str(ls) + \"_noise_var_\" + str(obs_noise) + \".pkl\"\n",
    "pickle.dump(random_features, open(log_file_name, \"wb\"))\n"
   ]
  },
  {
   "cell_type": "code",
   "execution_count": null,
   "id": "2eb9eb0b",
   "metadata": {},
   "outputs": [],
   "source": []
  }
 ],
 "metadata": {
  "kernelspec": {
   "display_name": "Python 3 (ipykernel)",
   "language": "python",
   "name": "python3"
  },
  "language_info": {
   "codemirror_mode": {
    "name": "ipython",
    "version": 3
   },
   "file_extension": ".py",
   "mimetype": "text/x-python",
   "name": "python",
   "nbconvert_exporter": "python",
   "pygments_lexer": "ipython3",
   "version": "3.10.8"
  },
  "toc": {
   "base_numbering": 1,
   "nav_menu": {},
   "number_sections": true,
   "sideBar": true,
   "skip_h1_title": false,
   "title_cell": "Table of Contents",
   "title_sidebar": "Contents",
   "toc_cell": false,
   "toc_position": {},
   "toc_section_display": true,
   "toc_window_display": false
  }
 },
 "nbformat": 4,
 "nbformat_minor": 5
}
